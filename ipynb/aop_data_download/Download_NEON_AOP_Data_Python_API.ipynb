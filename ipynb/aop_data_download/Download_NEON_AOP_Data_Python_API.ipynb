{
 "cells": [
  {
   "cell_type": "markdown",
   "metadata": {},
   "source": [
    "## Download NEON AOP Lidar and Hyperspectral Data using the API\n",
    "\n",
    "This tutorial runs through downloading NEON AOP data using the API. We will not go into all the details of the API here, but for more information, please refer to the additional resources at the bottom of this notebook.\n",
    "\n",
    "Learning Objectives:\n",
    "- Become familiar with NEON AOP data products \n",
    "- Explore available NEON AOP data products in the data portal (https://data.neonscience.org/data-products/explore)\n",
    "- Explore available NEON AOP data products by site and year using provided Python functions\n",
    "- Download specific data products to use in the remainder of this workshop\n",
    "\n",
    "First, the tables below list the selected NEON AOP lidar and hyperspectral data products, along with the file extensions that you will need when downloading a specific file, and the corresponding data product numbers. When working with any AOP data product, we recommend reading the ATBD (Algorithm Theoretical Basis Document) for details about the algorithm and implementation used to generate the data. AOP files typically follow this standard naming convention:\n",
    "\n",
    "NEON_DOM_SITE_DP0_UTMXXX_UTMYYYY_ProductName.ext\n",
    "\n",
    "For example:\n",
    "\n",
    "| Data Product                     | Example File Name                                 |\n",
    "|----------------------------------|---------------------------------------------------|\n",
    "| Lidar Digital Terrain Model      | NEON_D05_CHEQ_DP3_722000_5072000_DTM.tif          |\n",
    "| Hyperspectral Vegetation Indices | NEON_D05_CHEQ_DP3_722000_5080000_VegIndices.zip   |\n",
    "\n",
    "Note that the year the data collected is not included in the file name, so if you are working with data spanning multiple years, you will need to be careful about keeping track of the year in your workflow.\n",
    "\n",
    "### Lidar Data Products\n",
    "| Product Name                       | Extension             | Product Number               | ATBD Doc Number(s)                   |\n",
    "|------------------------------------|-----------------------|------------------------------|-----------------------------------|\n",
    "| LiDAR Slant Range Waveform         | .plz, .wvz            | DP1.30001.001  | NEON.DOC.001293                   |\n",
    "| Discrete Return LiDAR Point Cloud  | .laz                  | DP1.30003.001  | NEON.DOC.001292,001288  |\n",
    "| Ecosystem Structure                | CHM.tif               | DP3.30015.001  | NEON.DOC.002387                   |\n",
    "| Elevation - LiDAR                  | DTM.tif, DSM.tif      | DP3.30024.001  | NEON.DOC.002390                   |\n",
    "| Slope and Aspect - LiDAR           | slope.tif, aspect.tif | DP3.30025.001  | NEON.DOC.003791                   |\n",
    "\n",
    "### Selected Spectrometer Data Products\n",
    "| Product Name                       | Extension             | Product Number               | ATBD Doc Number(s)                   |\n",
    "|------------------------------------|-----------------------|------------------------------|-----------------------------------|\n",
    "| Spectrometer Orthorectified Surface Directional Reflectance Mosaic  | reflectance.h5                      | DP3.30006.001  | NEON.DOC.001288,004365  |\n",
    "| Albedo - Spectrometer                                               | albedo.tif               | DP3.30011.001  | NEON.DOC.004326         |\n",
    "| LAI - Spectrometer                                                  | LAI.tif, LAI_error.tif   | DP3.30012.001  | NEON.DOC.002385         |\n",
    "| fPAR - Spectrometer                                                 | fPAR.tif, fPAR_error.tif | DP3.30014.001  | NEON.DOC.003840         |\n",
    "| Canopy Water Content                                                | WaterIndices.zip         | 30019.001      | NEON.DOC.004364         |\n",
    "| Vegetation Indices - Spectrometer                                   | VegIndices.zip           | 30026.001      | NEON.DOC.002391         |"
   ]
  },
  {
   "cell_type": "markdown",
   "metadata": {},
   "source": [
    "First let's import the required functions for downloading from the API. "
   ]
  },
  {
   "cell_type": "code",
   "execution_count": 1,
   "metadata": {},
   "outputs": [],
   "source": [
    "from neon_download_functions import *"
   ]
  },
  {
   "cell_type": "markdown",
   "metadata": {},
   "source": [
    "To see a list of the functions (and modules) that we've pulled in we can use the magic command `%whos`:"
   ]
  },
  {
   "cell_type": "code",
   "execution_count": 2,
   "metadata": {},
   "outputs": [
    {
     "name": "stdout",
     "output_type": "stream",
     "text": [
      "Variable                      Type        Data/Info\n",
      "---------------------------------------------------\n",
      "DownloadFile                  function    <function DownloadFile at 0x7f50000e3d30>\n",
      "download_aop_files            function    <function download_aop_files at 0x7f50000e3dc0>\n",
      "download_urls                 function    <function download_urls at 0x7f50000e3ca0>\n",
      "list_available_urls           function    <function list_available_urls at 0x7f5000458ee0>\n",
      "list_available_urls_by_year   function    <function list_available_<...>y_year at 0x7f5000208040>\n",
      "os                            module      <module 'os' from '/opt/c<...>nda/lib/python3.8/os.py'>\n",
      "requests                      module      <module 'requests' from '<...>es/requests/__init__.py'>\n",
      "urllib                        module      <module 'urllib' from '/o<...>n3.8/urllib/__init__.py'>\n"
     ]
    }
   ],
   "source": [
    "%whos"
   ]
  },
  {
   "cell_type": "markdown",
   "metadata": {},
   "source": [
    "Next we'll specify the site of interest. Note that data may not be available for all sites and all years, so first we will make sure that there is data. We recommend first checking out the NEON data availability matrix at this website - https://data.neonscience.org/view-data-availability."
   ]
  },
  {
   "cell_type": "code",
   "execution_count": 3,
   "metadata": {},
   "outputs": [],
   "source": [
    "site = 'JORN'"
   ]
  },
  {
   "cell_type": "markdown",
   "metadata": {},
   "source": [
    "Let's look at the available data for the Lidar Elevation data product, `DP3.30024.001`"
   ]
  },
  {
   "cell_type": "code",
   "execution_count": 4,
   "metadata": {},
   "outputs": [
    {
     "data": {
      "text/plain": [
       "['https://data.neonscience.org/api/v0/data/DP3.30024.001/JORN/2017-08',\n",
       " 'https://data.neonscience.org/api/v0/data/DP3.30024.001/JORN/2018-08',\n",
       " 'https://data.neonscience.org/api/v0/data/DP3.30024.001/JORN/2019-08']"
      ]
     },
     "execution_count": 4,
     "metadata": {},
     "output_type": "execute_result"
    }
   ],
   "source": [
    "list_available_urls('DP3.30024.001',site)"
   ]
  },
  {
   "cell_type": "markdown",
   "metadata": {},
   "source": [
    "Next let's specify the year of interest, for now let's use the latest year available (2019):"
   ]
  },
  {
   "cell_type": "code",
   "execution_count": 5,
   "metadata": {},
   "outputs": [],
   "source": [
    "year = '2019'"
   ]
  },
  {
   "cell_type": "markdown",
   "metadata": {},
   "source": [
    "Now that we know there is data for the site and year specified, we can use the `download_aop_files` function to download the data. We can get more information about this function using a ? as follows:"
   ]
  },
  {
   "cell_type": "code",
   "execution_count": 6,
   "metadata": {},
   "outputs": [
    {
     "data": {
      "text/plain": [
       "\u001b[0;31mSignature:\u001b[0m\n",
       "\u001b[0mdownload_aop_files\u001b[0m\u001b[0;34m(\u001b[0m\u001b[0;34m\u001b[0m\n",
       "\u001b[0;34m\u001b[0m    \u001b[0mdata_product_id\u001b[0m\u001b[0;34m,\u001b[0m\u001b[0;34m\u001b[0m\n",
       "\u001b[0;34m\u001b[0m    \u001b[0msite\u001b[0m\u001b[0;34m,\u001b[0m\u001b[0;34m\u001b[0m\n",
       "\u001b[0;34m\u001b[0m    \u001b[0myear\u001b[0m\u001b[0;34m=\u001b[0m\u001b[0;32mNone\u001b[0m\u001b[0;34m,\u001b[0m\u001b[0;34m\u001b[0m\n",
       "\u001b[0;34m\u001b[0m    \u001b[0mdownload_folder\u001b[0m\u001b[0;34m=\u001b[0m\u001b[0;34m'./data'\u001b[0m\u001b[0;34m,\u001b[0m\u001b[0;34m\u001b[0m\n",
       "\u001b[0;34m\u001b[0m    \u001b[0mmatch_string\u001b[0m\u001b[0;34m=\u001b[0m\u001b[0;32mNone\u001b[0m\u001b[0;34m,\u001b[0m\u001b[0;34m\u001b[0m\n",
       "\u001b[0;34m\u001b[0m\u001b[0;34m)\u001b[0m\u001b[0;34m\u001b[0m\u001b[0;34m\u001b[0m\u001b[0m\n",
       "\u001b[0;31mDocstring:\u001b[0m\n",
       "download_aop_files downloads NEON AOP files from the AOP for a given data product, site, and \n",
       "optional year, download folder, and \n",
       "--------\n",
       " Inputs:\n",
       "     required:\n",
       "         data_product_id: the data product code (eg. 'DP3.30015.001' - CHM)\n",
       "         site: the 4-digit NEON site code (eg. 'SRER', 'JORN')\n",
       "     \n",
       "     optional:\n",
       "         year: year (eg. '2020'); default (None) is all years\n",
       "         download_folder: folder to store downloaded files; default (./data) in current directory\n",
       "         match_string: subset of data to match, need to use exact pattern for file name\n",
       "--------\n",
       "Usage:\n",
       "--------\n",
       "download_aop_files('DP3.30015.001','JORN','2019','../../data/JORN_2019/CHM','314000_3610000_DTM.tif')\n",
       "\u001b[0;31mFile:\u001b[0m      ~/NEON_workshop/tutorials/ipynb/neon_download_functions.py\n",
       "\u001b[0;31mType:\u001b[0m      function\n"
      ]
     },
     "metadata": {},
     "output_type": "display_data"
    }
   ],
   "source": [
    "download_aop_files?"
   ]
  },
  {
   "cell_type": "markdown",
   "metadata": {},
   "source": [
    "Now that we know what inputs this function is expecting, we can run it. To start, let's pull in a single tile (by specifying the UTM x,y coordinates and data product type in the \"match_string\" field. For this to work you have to know that the UTM coordinates are in the bounds of the site. We will not go into this in detail here, but to preview a site, encourage you to explore the NEON data here ___. "
   ]
  },
  {
   "cell_type": "code",
   "execution_count": 7,
   "metadata": {},
   "outputs": [
    {
     "name": "stdout",
     "output_type": "stream",
     "text": [
      "['https://data.neonscience.org/api/v0/data/DP3.30024.001/JORN/2019-08']\n",
      "downloading NEON_D14_JORN_DP3_324000_3620000_DTM.tif to ../../data/2019_JORN/DTM\n"
     ]
    }
   ],
   "source": [
    "download_aop_files('DP3.30024.001',site,year,'../../data/2019_JORN/DTM','324000_3620000_DTM.tif')"
   ]
  },
  {
   "cell_type": "markdown",
   "metadata": {},
   "source": [
    "Note that you can use standard Linux functions (such as `ls`) in Jupyter. Let's use ls to confirm that the data was downloaded in the expected location:"
   ]
  },
  {
   "cell_type": "code",
   "execution_count": 8,
   "metadata": {},
   "outputs": [
    {
     "name": "stdout",
     "output_type": "stream",
     "text": [
      "NEON_D14_JORN_DP3_314000_3610000_DTM.tif\n",
      "NEON_D14_JORN_DP3_323000_3620000_DTM.tif\n",
      "NEON_D14_JORN_DP3_324000_3620000_DTM.tif\n"
     ]
    }
   ],
   "source": [
    "ls ../../data/2019_JORN/DTM"
   ]
  },
  {
   "cell_type": "markdown",
   "metadata": {},
   "source": [
    "Now let's use the same function but swap out the data product id with `DP3.30006.001` to download the corresponding hyperspectral surface reflectance tile. We'll also change the download folder to /Refl. For one tile this probably isn't necessary, but when you download all tiles for a given site it becomes more important to maintain an organized folder structure. Lastly, we need to change the last input to include the appropriate match string"
   ]
  },
  {
   "cell_type": "code",
   "execution_count": 9,
   "metadata": {},
   "outputs": [
    {
     "name": "stdout",
     "output_type": "stream",
     "text": [
      "['https://data.neonscience.org/api/v0/data/DP3.30006.001/JORN/2019-08']\n",
      "downloading NEON_D14_JORN_DP3_324000_3620000_reflectance.h5 to ../../data/2019_JORN/Refl\n"
     ]
    }
   ],
   "source": [
    "download_aop_files('DP3.30006.001',site,year,'../../data/2019_JORN/Refl','324000_3620000_reflectance.h5')"
   ]
  },
  {
   "cell_type": "code",
   "execution_count": 10,
   "metadata": {},
   "outputs": [
    {
     "name": "stdout",
     "output_type": "stream",
     "text": [
      "total 1316424\n",
      "-rw-r--r-- 1 jovyan jovyan  35265675 Nov  2 17:30 NEON_D14_JORN_DP3_314000_3620000_reflectance.h5\n",
      "-rw-r--r-- 1 jovyan jovyan 651625826 Nov  2 23:14 NEON_D14_JORN_DP3_323000_3620000_reflectance.h5\n",
      "-rw-r--r-- 1 jovyan jovyan 661121639 Nov  3 03:13 NEON_D14_JORN_DP3_324000_3620000_reflectance.h5\n"
     ]
    }
   ],
   "source": [
    "ls -l ../../data/2019_JORN/Refl"
   ]
  },
  {
   "cell_type": "markdown",
   "metadata": {},
   "source": [
    "Finally, let's download the corresponding Vegetation Indices folder, which contains useful "
   ]
  },
  {
   "cell_type": "markdown",
   "metadata": {},
   "source": [
    "## On your own:\n",
    "\n",
    "Try downloading an AOP data product of interest for a different site and year of your choice. \n",
    "\n",
    "*HINT*: If you don't have a site in mind, first explore the NEON data products web page to see what site and years are available and visualize the camera or veg indices. https://data.neonscience.org/data-products/explore"
   ]
  },
  {
   "cell_type": "code",
   "execution_count": null,
   "metadata": {},
   "outputs": [],
   "source": []
  },
  {
   "cell_type": "markdown",
   "metadata": {},
   "source": [
    "## Bonus:\n",
    "### AOP Data Exploration using `geopandas`\n",
    "\n",
    "If time allows at the end of the workshop, run through the steps below to plot a sites boundary shapefiles. You can either download the individual shapefiles for each tile by using the extension `.shp` and `.shx` or only the merged tiles by using `merged_tiles.shp/shx` as shown below. This is useful if you are only interested in looking at specific tiles of a given site and don't want to download all of the data; or if only part of a site was flown for a given year, this can give you a quick look at the area covered. Note these metadata shapefiles may not be present for all sites and all years, but the AOP team is working towards making them available for all data products on the portal. \n",
    "\n",
    "In order to visualize these shapefiles, we can use the `geopandas` package, which we import at the start. Follow the steps below to plot the AOP flight boundaries for SRER and JORN in 2019."
   ]
  },
  {
   "cell_type": "code",
   "execution_count": 11,
   "metadata": {},
   "outputs": [],
   "source": [
    "import geopandas as gpd\n",
    "import matplotlib.pyplot as plt"
   ]
  },
  {
   "cell_type": "markdown",
   "metadata": {},
   "source": [
    "### Example 1: JORN 2019"
   ]
  },
  {
   "cell_type": "code",
   "execution_count": 12,
   "metadata": {},
   "outputs": [
    {
     "name": "stdout",
     "output_type": "stream",
     "text": [
      "['https://data.neonscience.org/api/v0/data/DP3.30024.001/JORN/2019-08']\n",
      "downloading 2019_JORN_3_merged_tiles.shp to ../../data/2019_JORN/Shapefiles\n",
      "['https://data.neonscience.org/api/v0/data/DP3.30024.001/JORN/2019-08']\n",
      "downloading 2019_JORN_3_merged_tiles.shx to ../../data/2019_JORN/Shapefiles\n"
     ]
    }
   ],
   "source": [
    "download_aop_files('DP3.30024.001',site,year,'../../data/2019_JORN/Shapefiles','merged_tiles.shp')\n",
    "download_aop_files('DP3.30024.001',site,year,'../../data/2019_JORN/Shapefiles','merged_tiles.shx')"
   ]
  },
  {
   "cell_type": "markdown",
   "metadata": {},
   "source": [
    "Now we'll use the geopandas `read_file` and `plot` functions to display the merged shapefile:"
   ]
  },
  {
   "cell_type": "code",
   "execution_count": 13,
   "metadata": {},
   "outputs": [
    {
     "data": {
      "text/plain": [
       "Text(0.5, 1.0, 'AOP Coverage of JORN in 2019')"
      ]
     },
     "execution_count": 13,
     "metadata": {},
     "output_type": "execute_result"
    },
    {
     "data": {
      "image/png": "[encoded data removed]",
      "text/plain": [
       "<Figure size 432x288 with 1 Axes>"
      ]
     },
     "metadata": {
      "needs_background": "light"
     },
     "output_type": "display_data"
    }
   ],
   "source": [
    "gdf = gpd.read_file('../../data/2019_JORN/Shapefiles/2019_JORN_3_merged_tiles.shp')\n",
    "gdf.plot();\n",
    "ax = plt.gca(); ax.ticklabel_format(style='plain') \n",
    "ax.set_title('AOP Coverage of JORN in 2019')"
   ]
  },
  {
   "cell_type": "markdown",
   "metadata": {},
   "source": [
    "### Example 2: SRER 2019"
   ]
  },
  {
   "cell_type": "code",
   "execution_count": null,
   "metadata": {},
   "outputs": [],
   "source": [
    "download_aop_files('DP3.30024.001','SRER','2019','../../data/2019_SRER/Shapefiles','merged_tiles.shp')\n",
    "download_aop_files('DP3.30024.001','SRER','2019','../../data/2019_SRER/Shapefiles','merged_tiles.shx')"
   ]
  },
  {
   "cell_type": "code",
   "execution_count": 14,
   "metadata": {},
   "outputs": [
    {
     "data": {
      "text/plain": [
       "Text(0.5, 1.0, 'AOP Coverage of SRER in 2019')"
      ]
     },
     "execution_count": 14,
     "metadata": {},
     "output_type": "execute_result"
    },
    {
     "data": {
      "image/png": "[encoded data removed]",
      "text/plain": [
       "<Figure size 432x288 with 1 Axes>"
      ]
     },
     "metadata": {
      "needs_background": "light"
     },
     "output_type": "display_data"
    }
   ],
   "source": [
    "gdf = gpd.read_file('../../data/2019_SRER/Shapefiles/2019_SRER_3_merged_tiles.shp')\n",
    "gdf.plot(); ax = plt.gca(); ax.ticklabel_format(style='plain')\n",
    "ax.set_title('AOP Coverage of SRER in 2019')"
   ]
  },
  {
   "cell_type": "markdown",
   "metadata": {},
   "source": [
    "## Additional Resources to NEON API\n",
    "\n",
    "- https://data.neonscience.org/data-api/ (Basic information on the NEON API, including FAQs)\n",
    "- https://github.com/neonscience/neon-data-api (GitHub repository for the NEON API)\n",
    "- https://github.com/NEONScience/NEON-Data-Skills/tree/master/tutorials/Python/neon-api-python (tutorial explaining how to access the NEON API in Python)"
   ]
  }
 ],
 "metadata": {
  "kernelspec": {
   "display_name": "Python 3",
   "language": "python",
   "name": "python3"
  },
  "language_info": {
   "codemirror_mode": {
    "name": "ipython",
    "version": 3
   },
   "file_extension": ".py",
   "mimetype": "text/x-python",
   "name": "python",
   "nbconvert_exporter": "python",
   "pygments_lexer": "ipython3",
   "version": "3.8.5"
  }
 },
 "nbformat": 4,
 "nbformat_minor": 4
}
